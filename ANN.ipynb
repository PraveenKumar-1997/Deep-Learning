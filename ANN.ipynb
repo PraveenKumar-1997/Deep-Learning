{
 "cells": [
  {
   "cell_type": "code",
   "execution_count": 2,
   "metadata": {},
   "outputs": [],
   "source": [
    "import pandas as pd\n",
    "import numpy\n",
    "import matplotlib.pyplot as plt\n",
    "import warnings\n",
    "warnings.filterwarnings('ignore')"
   ]
  },
  {
   "cell_type": "code",
   "execution_count": 3,
   "metadata": {},
   "outputs": [],
   "source": [
    "import os\n",
    "os.chdir('D:\\\\Machine-Learning-A-Z-New\\\\Machine Learning A-Z New\\\\Part 8 - Deep Learning\\\\Section 39 - Artificial Neural Networks (ANN)')"
   ]
  },
  {
   "cell_type": "code",
   "execution_count": 4,
   "metadata": {},
   "outputs": [],
   "source": [
    "dataset = pd.read_csv('Churn_Modelling.csv')"
   ]
  },
  {
   "cell_type": "code",
   "execution_count": 5,
   "metadata": {},
   "outputs": [
    {
     "data": {
      "text/html": [
       "<div>\n",
       "<style scoped>\n",
       "    .dataframe tbody tr th:only-of-type {\n",
       "        vertical-align: middle;\n",
       "    }\n",
       "\n",
       "    .dataframe tbody tr th {\n",
       "        vertical-align: top;\n",
       "    }\n",
       "\n",
       "    .dataframe thead th {\n",
       "        text-align: right;\n",
       "    }\n",
       "</style>\n",
       "<table border=\"1\" class=\"dataframe\">\n",
       "  <thead>\n",
       "    <tr style=\"text-align: right;\">\n",
       "      <th></th>\n",
       "      <th>RowNumber</th>\n",
       "      <th>CustomerId</th>\n",
       "      <th>Surname</th>\n",
       "      <th>CreditScore</th>\n",
       "      <th>Geography</th>\n",
       "      <th>Gender</th>\n",
       "      <th>Age</th>\n",
       "      <th>Tenure</th>\n",
       "      <th>Balance</th>\n",
       "      <th>NumOfProducts</th>\n",
       "      <th>HasCrCard</th>\n",
       "      <th>IsActiveMember</th>\n",
       "      <th>EstimatedSalary</th>\n",
       "      <th>Exited</th>\n",
       "    </tr>\n",
       "  </thead>\n",
       "  <tbody>\n",
       "    <tr>\n",
       "      <th>0</th>\n",
       "      <td>1</td>\n",
       "      <td>15634602</td>\n",
       "      <td>Hargrave</td>\n",
       "      <td>619</td>\n",
       "      <td>France</td>\n",
       "      <td>Female</td>\n",
       "      <td>42</td>\n",
       "      <td>2</td>\n",
       "      <td>0.00</td>\n",
       "      <td>1</td>\n",
       "      <td>1</td>\n",
       "      <td>1</td>\n",
       "      <td>101348.88</td>\n",
       "      <td>1</td>\n",
       "    </tr>\n",
       "    <tr>\n",
       "      <th>1</th>\n",
       "      <td>2</td>\n",
       "      <td>15647311</td>\n",
       "      <td>Hill</td>\n",
       "      <td>608</td>\n",
       "      <td>Spain</td>\n",
       "      <td>Female</td>\n",
       "      <td>41</td>\n",
       "      <td>1</td>\n",
       "      <td>83807.86</td>\n",
       "      <td>1</td>\n",
       "      <td>0</td>\n",
       "      <td>1</td>\n",
       "      <td>112542.58</td>\n",
       "      <td>0</td>\n",
       "    </tr>\n",
       "    <tr>\n",
       "      <th>2</th>\n",
       "      <td>3</td>\n",
       "      <td>15619304</td>\n",
       "      <td>Onio</td>\n",
       "      <td>502</td>\n",
       "      <td>France</td>\n",
       "      <td>Female</td>\n",
       "      <td>42</td>\n",
       "      <td>8</td>\n",
       "      <td>159660.80</td>\n",
       "      <td>3</td>\n",
       "      <td>1</td>\n",
       "      <td>0</td>\n",
       "      <td>113931.57</td>\n",
       "      <td>1</td>\n",
       "    </tr>\n",
       "    <tr>\n",
       "      <th>3</th>\n",
       "      <td>4</td>\n",
       "      <td>15701354</td>\n",
       "      <td>Boni</td>\n",
       "      <td>699</td>\n",
       "      <td>France</td>\n",
       "      <td>Female</td>\n",
       "      <td>39</td>\n",
       "      <td>1</td>\n",
       "      <td>0.00</td>\n",
       "      <td>2</td>\n",
       "      <td>0</td>\n",
       "      <td>0</td>\n",
       "      <td>93826.63</td>\n",
       "      <td>0</td>\n",
       "    </tr>\n",
       "    <tr>\n",
       "      <th>4</th>\n",
       "      <td>5</td>\n",
       "      <td>15737888</td>\n",
       "      <td>Mitchell</td>\n",
       "      <td>850</td>\n",
       "      <td>Spain</td>\n",
       "      <td>Female</td>\n",
       "      <td>43</td>\n",
       "      <td>2</td>\n",
       "      <td>125510.82</td>\n",
       "      <td>1</td>\n",
       "      <td>1</td>\n",
       "      <td>1</td>\n",
       "      <td>79084.10</td>\n",
       "      <td>0</td>\n",
       "    </tr>\n",
       "  </tbody>\n",
       "</table>\n",
       "</div>"
      ],
      "text/plain": [
       "   RowNumber  CustomerId   Surname  CreditScore Geography  Gender  Age  \\\n",
       "0          1    15634602  Hargrave          619    France  Female   42   \n",
       "1          2    15647311      Hill          608     Spain  Female   41   \n",
       "2          3    15619304      Onio          502    France  Female   42   \n",
       "3          4    15701354      Boni          699    France  Female   39   \n",
       "4          5    15737888  Mitchell          850     Spain  Female   43   \n",
       "\n",
       "   Tenure    Balance  NumOfProducts  HasCrCard  IsActiveMember  \\\n",
       "0       2       0.00              1          1               1   \n",
       "1       1   83807.86              1          0               1   \n",
       "2       8  159660.80              3          1               0   \n",
       "3       1       0.00              2          0               0   \n",
       "4       2  125510.82              1          1               1   \n",
       "\n",
       "   EstimatedSalary  Exited  \n",
       "0        101348.88       1  \n",
       "1        112542.58       0  \n",
       "2        113931.57       1  \n",
       "3         93826.63       0  \n",
       "4         79084.10       0  "
      ]
     },
     "execution_count": 5,
     "metadata": {},
     "output_type": "execute_result"
    }
   ],
   "source": [
    "dataset.head()"
   ]
  },
  {
   "cell_type": "code",
   "execution_count": 6,
   "metadata": {},
   "outputs": [],
   "source": [
    "X = dataset.iloc[:, 3:13].values\n",
    "y = dataset.iloc[:, 13].values"
   ]
  },
  {
   "cell_type": "code",
   "execution_count": 7,
   "metadata": {},
   "outputs": [],
   "source": [
    "from sklearn.preprocessing import LabelEncoder, OneHotEncoder\n",
    "label_encoder_X_1 = LabelEncoder()\n",
    "X[:, 1] = label_encoder_X_1.fit_transform(X[:, 1])\n",
    "\n",
    "label_encoder_X_2 = LabelEncoder()\n",
    "X[:, 2] = label_encoder_X_2.fit_transform(X[:, 2])\n",
    "onehotencoder = OneHotEncoder(categorical_features = [1])\n",
    "X = onehotencoder.fit_transform(X).toarray()"
   ]
  },
  {
   "cell_type": "code",
   "execution_count": 8,
   "metadata": {},
   "outputs": [],
   "source": [
    "#Remove 1 column\n",
    "X = X[:, 1:]"
   ]
  },
  {
   "cell_type": "code",
   "execution_count": 9,
   "metadata": {},
   "outputs": [],
   "source": [
    "from sklearn.model_selection import train_test_split\n",
    "X_train, X_test, y_train, y_test = train_test_split(X, y, test_size = 0.2, random_state = 0)"
   ]
  },
  {
   "cell_type": "code",
   "execution_count": 10,
   "metadata": {},
   "outputs": [],
   "source": [
    "#Feature Scaling\n",
    "from sklearn.preprocessing import StandardScaler\n",
    "sc = StandardScaler()\n",
    "X_train = sc.fit_transform(X_train)\n",
    "X_test = sc.transform(X_test)"
   ]
  },
  {
   "cell_type": "code",
   "execution_count": 11,
   "metadata": {},
   "outputs": [
    {
     "name": "stderr",
     "output_type": "stream",
     "text": [
      "Using Theano backend.\n",
      "WARNING (theano.configdefaults): g++ not available, if using conda: `conda install m2w64-toolchain`\n",
      "WARNING (theano.configdefaults): g++ not detected ! Theano will be unable to execute optimized C-implementations (for both CPU and GPU) and will default to Python implementations. Performance will be severely degraded. To remove this warning, set Theano flags cxx to an empty string.\n",
      "WARNING (theano.tensor.blas): Using NumPy C-API based implementation for BLAS functions.\n"
     ]
    }
   ],
   "source": [
    "import keras"
   ]
  },
  {
   "cell_type": "code",
   "execution_count": 12,
   "metadata": {},
   "outputs": [],
   "source": [
    "from keras.models import Sequential\n",
    "from keras.layers import Dense"
   ]
  },
  {
   "cell_type": "code",
   "execution_count": 13,
   "metadata": {},
   "outputs": [],
   "source": [
    "#Initialize ANN\n",
    "classifier = Sequential()"
   ]
  },
  {
   "cell_type": "code",
   "execution_count": 14,
   "metadata": {},
   "outputs": [],
   "source": [
    "#Add input layer and first hidden layer\n",
    "classifier.add(Dense(output_dim = 6, init = 'uniform', activation = 'relu', input_dim = 11 ))"
   ]
  },
  {
   "cell_type": "code",
   "execution_count": 15,
   "metadata": {},
   "outputs": [],
   "source": [
    "#Add second hidden layer\n",
    "classifier.add(Dense(output_dim = 6, init = 'uniform', activation = 'relu' ))"
   ]
  },
  {
   "cell_type": "code",
   "execution_count": 16,
   "metadata": {},
   "outputs": [],
   "source": [
    "#Add output layer\n",
    "classifier.add(Dense(output_dim = 1, init = 'uniform', activation = 'sigmoid' ))"
   ]
  },
  {
   "cell_type": "code",
   "execution_count": 17,
   "metadata": {},
   "outputs": [],
   "source": [
    "#Compiling ANN\n",
    "classifier.compile(optimizer = 'adam', loss = 'binary_crossentropy', metrics = ['accuracy'])"
   ]
  },
  {
   "cell_type": "code",
   "execution_count": 18,
   "metadata": {},
   "outputs": [
    {
     "name": "stdout",
     "output_type": "stream",
     "text": [
      "Epoch 1/100\n",
      "8000/8000 [==============================] - 22s 3ms/step - loss: 0.4766 - accuracy: 0.7960 0s - loss: 0.4768 - accuracy: 0.79\n",
      "Epoch 2/100\n",
      "8000/8000 [==============================] - 19s 2ms/step - loss: 0.4294 - accuracy: 0.7960\n",
      "Epoch 3/100\n",
      "8000/8000 [==============================] - 20s 3ms/step - loss: 0.4247 - accuracy: 0.7960\n",
      "Epoch 4/100\n",
      "8000/8000 [==============================] - 21s 3ms/step - loss: 0.4204 - accuracy: 0.8149\n",
      "Epoch 5/100\n",
      "8000/8000 [==============================] - 19s 2ms/step - loss: 0.4180 - accuracy: 0.8229\n",
      "Epoch 6/100\n",
      "8000/8000 [==============================] - 20s 3ms/step - loss: 0.4154 - accuracy: 0.8273\n",
      "Epoch 7/100\n",
      "8000/8000 [==============================] - 23s 3ms/step - loss: 0.4142 - accuracy: 0.8299\n",
      "Epoch 8/100\n",
      "8000/8000 [==============================] - 21s 3ms/step - loss: 0.4124 - accuracy: 0.8332\n",
      "Epoch 9/100\n",
      "8000/8000 [==============================] - 21s 3ms/step - loss: 0.4111 - accuracy: 0.8319\n",
      "Epoch 10/100\n",
      "8000/8000 [==============================] - 21s 3ms/step - loss: 0.4105 - accuracy: 0.8335\n",
      "Epoch 11/100\n",
      "8000/8000 [==============================] - 21s 3ms/step - loss: 0.4093 - accuracy: 0.8334\n",
      "Epoch 12/100\n",
      "8000/8000 [==============================] - 21s 3ms/step - loss: 0.4087 - accuracy: 0.8347\n",
      "Epoch 13/100\n",
      "8000/8000 [==============================] - 21s 3ms/step - loss: 0.4083 - accuracy: 0.8329\n",
      "Epoch 14/100\n",
      "8000/8000 [==============================] - 21s 3ms/step - loss: 0.4072 - accuracy: 0.8342\n",
      "Epoch 15/100\n",
      "8000/8000 [==============================] - 21s 3ms/step - loss: 0.4067 - accuracy: 0.8347\n",
      "Epoch 16/100\n",
      "8000/8000 [==============================] - 21s 3ms/step - loss: 0.4061 - accuracy: 0.8353\n",
      "Epoch 17/100\n",
      "8000/8000 [==============================] - 21s 3ms/step - loss: 0.4063 - accuracy: 0.8339\n",
      "Epoch 18/100\n",
      "8000/8000 [==============================] - 21s 3ms/step - loss: 0.4051 - accuracy: 0.8340\n",
      "Epoch 19/100\n",
      "8000/8000 [==============================] - 20s 3ms/step - loss: 0.4051 - accuracy: 0.8345\n",
      "Epoch 20/100\n",
      "8000/8000 [==============================] - 19s 2ms/step - loss: 0.4047 - accuracy: 0.8340\n",
      "Epoch 21/100\n",
      "8000/8000 [==============================] - 21s 3ms/step - loss: 0.4043 - accuracy: 0.8344\n",
      "Epoch 22/100\n",
      "8000/8000 [==============================] - 18s 2ms/step - loss: 0.4045 - accuracy: 0.8345\n",
      "Epoch 23/100\n",
      "8000/8000 [==============================] - 18s 2ms/step - loss: 0.4045 - accuracy: 0.8360\n",
      "Epoch 24/100\n",
      "8000/8000 [==============================] - 17s 2ms/step - loss: 0.4041 - accuracy: 0.8354\n",
      "Epoch 25/100\n",
      "8000/8000 [==============================] - 17s 2ms/step - loss: 0.4037 - accuracy: 0.8344\n",
      "Epoch 26/100\n",
      "8000/8000 [==============================] - 17s 2ms/step - loss: 0.4036 - accuracy: 0.8340\n",
      "Epoch 27/100\n",
      "8000/8000 [==============================] - 20s 3ms/step - loss: 0.4039 - accuracy: 0.8345\n",
      "Epoch 28/100\n",
      "8000/8000 [==============================] - 22s 3ms/step - loss: 0.4035 - accuracy: 0.8355\n",
      "Epoch 29/100\n",
      "8000/8000 [==============================] - 22s 3ms/step - loss: 0.4032 - accuracy: 0.8345\n",
      "Epoch 30/100\n",
      "8000/8000 [==============================] - 21s 3ms/step - loss: 0.4031 - accuracy: 0.8342\n",
      "Epoch 31/100\n",
      "8000/8000 [==============================] - 21s 3ms/step - loss: 0.4037 - accuracy: 0.8339\n",
      "Epoch 32/100\n",
      "8000/8000 [==============================] - 17s 2ms/step - loss: 0.4034 - accuracy: 0.8359\n",
      "Epoch 33/100\n",
      "8000/8000 [==============================] - 22s 3ms/step - loss: 0.4030 - accuracy: 0.8355\n",
      "Epoch 34/100\n",
      "8000/8000 [==============================] - 21s 3ms/step - loss: 0.4025 - accuracy: 0.8349\n",
      "Epoch 35/100\n",
      "8000/8000 [==============================] - 22s 3ms/step - loss: 0.4023 - accuracy: 0.8342\n",
      "Epoch 36/100\n",
      "8000/8000 [==============================] - 21s 3ms/step - loss: 0.4025 - accuracy: 0.8354\n",
      "Epoch 37/100\n",
      "8000/8000 [==============================] - 23s 3ms/step - loss: 0.4027 - accuracy: 0.8330\n",
      "Epoch 38/100\n",
      "8000/8000 [==============================] - 22s 3ms/step - loss: 0.4022 - accuracy: 0.8336\n",
      "Epoch 39/100\n",
      "8000/8000 [==============================] - 22s 3ms/step - loss: 0.4019 - accuracy: 0.8346\n",
      "Epoch 40/100\n",
      "8000/8000 [==============================] - 21s 3ms/step - loss: 0.4024 - accuracy: 0.8353\n",
      "Epoch 41/100\n",
      "8000/8000 [==============================] - 22s 3ms/step - loss: 0.4017 - accuracy: 0.8341\n",
      "Epoch 42/100\n",
      "8000/8000 [==============================] - 21s 3ms/step - loss: 0.4020 - accuracy: 0.8351\n",
      "Epoch 43/100\n",
      "8000/8000 [==============================] - 21s 3ms/step - loss: 0.4019 - accuracy: 0.8353\n",
      "Epoch 44/100\n",
      "8000/8000 [==============================] - 21s 3ms/step - loss: 0.4016 - accuracy: 0.8340\n",
      "Epoch 45/100\n",
      "8000/8000 [==============================] - 21s 3ms/step - loss: 0.4012 - accuracy: 0.8364\n",
      "Epoch 46/100\n",
      "8000/8000 [==============================] - 22s 3ms/step - loss: 0.4018 - accuracy: 0.8353\n",
      "Epoch 47/100\n",
      "8000/8000 [==============================] - 22s 3ms/step - loss: 0.4018 - accuracy: 0.8347\n",
      "Epoch 48/100\n",
      "8000/8000 [==============================] - 22s 3ms/step - loss: 0.4016 - accuracy: 0.8346\n",
      "Epoch 49/100\n",
      "8000/8000 [==============================] - 21s 3ms/step - loss: 0.4010 - accuracy: 0.8354ETA: 0s -\n",
      "Epoch 50/100\n",
      "8000/8000 [==============================] - 22s 3ms/step - loss: 0.4008 - accuracy: 0.8342\n",
      "Epoch 51/100\n",
      "8000/8000 [==============================] - 22s 3ms/step - loss: 0.4009 - accuracy: 0.8342\n",
      "Epoch 52/100\n",
      "8000/8000 [==============================] - 23s 3ms/step - loss: 0.4009 - accuracy: 0.8335\n",
      "Epoch 53/100\n",
      "8000/8000 [==============================] - 22s 3ms/step - loss: 0.4017 - accuracy: 0.8340\n",
      "Epoch 54/100\n",
      "8000/8000 [==============================] - 22s 3ms/step - loss: 0.4009 - accuracy: 0.8349\n",
      "Epoch 55/100\n",
      "8000/8000 [==============================] - 22s 3ms/step - loss: 0.4011 - accuracy: 0.8349\n",
      "Epoch 56/100\n",
      "8000/8000 [==============================] - 20s 3ms/step - loss: 0.4009 - accuracy: 0.8347\n",
      "Epoch 57/100\n",
      "8000/8000 [==============================] - 23s 3ms/step - loss: 0.4006 - accuracy: 0.8339\n",
      "Epoch 58/100\n",
      "8000/8000 [==============================] - 21s 3ms/step - loss: 0.4008 - accuracy: 0.8349\n",
      "Epoch 59/100\n",
      "8000/8000 [==============================] - 21s 3ms/step - loss: 0.4013 - accuracy: 0.8350\n",
      "Epoch 60/100\n",
      "8000/8000 [==============================] - 22s 3ms/step - loss: 0.4006 - accuracy: 0.8350\n",
      "Epoch 61/100\n",
      "8000/8000 [==============================] - 22s 3ms/step - loss: 0.4015 - accuracy: 0.8359\n",
      "Epoch 62/100\n",
      "8000/8000 [==============================] - 21s 3ms/step - loss: 0.4008 - accuracy: 0.8355\n",
      "Epoch 63/100\n",
      "8000/8000 [==============================] - 21s 3ms/step - loss: 0.4011 - accuracy: 0.8344\n",
      "Epoch 64/100\n",
      "8000/8000 [==============================] - 20s 3ms/step - loss: 0.4011 - accuracy: 0.8344\n",
      "Epoch 65/100\n",
      "8000/8000 [==============================] - 17s 2ms/step - loss: 0.4009 - accuracy: 0.8338\n",
      "Epoch 66/100\n",
      "8000/8000 [==============================] - 17s 2ms/step - loss: 0.4009 - accuracy: 0.8345\n",
      "Epoch 67/100\n",
      "8000/8000 [==============================] - 17s 2ms/step - loss: 0.4007 - accuracy: 0.8334\n",
      "Epoch 68/100\n",
      "8000/8000 [==============================] - 17s 2ms/step - loss: 0.4007 - accuracy: 0.8345\n",
      "Epoch 69/100\n",
      "8000/8000 [==============================] - 17s 2ms/step - loss: 0.4007 - accuracy: 0.8354\n",
      "Epoch 70/100\n",
      "8000/8000 [==============================] - 17s 2ms/step - loss: 0.4004 - accuracy: 0.8364\n",
      "Epoch 71/100\n",
      "8000/8000 [==============================] - 17s 2ms/step - loss: 0.4007 - accuracy: 0.8355\n",
      "Epoch 72/100\n",
      "8000/8000 [==============================] - 17s 2ms/step - loss: 0.4004 - accuracy: 0.8341\n",
      "Epoch 73/100\n",
      "8000/8000 [==============================] - 17s 2ms/step - loss: 0.4006 - accuracy: 0.8359\n",
      "Epoch 74/100\n",
      "8000/8000 [==============================] - 17s 2ms/step - loss: 0.4009 - accuracy: 0.8351\n",
      "Epoch 75/100\n",
      "8000/8000 [==============================] - 17s 2ms/step - loss: 0.4003 - accuracy: 0.8360\n",
      "Epoch 76/100\n",
      "8000/8000 [==============================] - 17s 2ms/step - loss: 0.4010 - accuracy: 0.8347\n",
      "Epoch 77/100\n",
      "8000/8000 [==============================] - 17s 2ms/step - loss: 0.4005 - accuracy: 0.8356\n",
      "Epoch 78/100\n"
     ]
    },
    {
     "name": "stdout",
     "output_type": "stream",
     "text": [
      "8000/8000 [==============================] - 17s 2ms/step - loss: 0.4000 - accuracy: 0.8356\n",
      "Epoch 79/100\n",
      "8000/8000 [==============================] - 17s 2ms/step - loss: 0.4004 - accuracy: 0.8353\n",
      "Epoch 80/100\n",
      "8000/8000 [==============================] - 17s 2ms/step - loss: 0.4010 - accuracy: 0.8347\n",
      "Epoch 81/100\n",
      "8000/8000 [==============================] - 17s 2ms/step - loss: 0.4002 - accuracy: 0.8359\n",
      "Epoch 82/100\n",
      "8000/8000 [==============================] - 17s 2ms/step - loss: 0.4005 - accuracy: 0.8344\n",
      "Epoch 83/100\n",
      "8000/8000 [==============================] - 17s 2ms/step - loss: 0.3999 - accuracy: 0.8357\n",
      "Epoch 84/100\n",
      "8000/8000 [==============================] - 17s 2ms/step - loss: 0.4007 - accuracy: 0.8354\n",
      "Epoch 85/100\n",
      "8000/8000 [==============================] - 17s 2ms/step - loss: 0.4001 - accuracy: 0.8361\n",
      "Epoch 86/100\n",
      "8000/8000 [==============================] - 18s 2ms/step - loss: 0.4002 - accuracy: 0.8349\n",
      "Epoch 87/100\n",
      "8000/8000 [==============================] - 18s 2ms/step - loss: 0.4003 - accuracy: 0.8345\n",
      "Epoch 88/100\n",
      "8000/8000 [==============================] - 17s 2ms/step - loss: 0.4009 - accuracy: 0.8354\n",
      "Epoch 89/100\n",
      "8000/8000 [==============================] - 17s 2ms/step - loss: 0.4001 - accuracy: 0.8344\n",
      "Epoch 90/100\n",
      "8000/8000 [==============================] - 17s 2ms/step - loss: 0.4005 - accuracy: 0.8344\n",
      "Epoch 91/100\n",
      "8000/8000 [==============================] - 17s 2ms/step - loss: 0.4001 - accuracy: 0.8359\n",
      "Epoch 92/100\n",
      "8000/8000 [==============================] - 17s 2ms/step - loss: 0.4001 - accuracy: 0.8355\n",
      "Epoch 93/100\n",
      "8000/8000 [==============================] - 17s 2ms/step - loss: 0.4004 - accuracy: 0.8340\n",
      "Epoch 94/100\n",
      "8000/8000 [==============================] - 17s 2ms/step - loss: 0.4007 - accuracy: 0.8356\n",
      "Epoch 95/100\n",
      "8000/8000 [==============================] - 17s 2ms/step - loss: 0.4001 - accuracy: 0.8346\n",
      "Epoch 96/100\n",
      "8000/8000 [==============================] - 17s 2ms/step - loss: 0.4006 - accuracy: 0.8347\n",
      "Epoch 97/100\n",
      "8000/8000 [==============================] - 17s 2ms/step - loss: 0.4003 - accuracy: 0.8354\n",
      "Epoch 98/100\n",
      "8000/8000 [==============================] - 17s 2ms/step - loss: 0.4006 - accuracy: 0.8357\n",
      "Epoch 99/100\n",
      "8000/8000 [==============================] - 17s 2ms/step - loss: 0.4006 - accuracy: 0.8330\n",
      "Epoch 100/100\n",
      "8000/8000 [==============================] - 17s 2ms/step - loss: 0.4002 - accuracy: 0.8359\n"
     ]
    },
    {
     "data": {
      "text/plain": [
       "<keras.callbacks.callbacks.History at 0xbf3ddc0ef0>"
      ]
     },
     "execution_count": 18,
     "metadata": {},
     "output_type": "execute_result"
    }
   ],
   "source": [
    "#Fitting ANN to training set\n",
    "classifier.fit(X_train, y_train, batch_size = 10, nb_epoch = 100)"
   ]
  },
  {
   "cell_type": "code",
   "execution_count": 19,
   "metadata": {},
   "outputs": [],
   "source": [
    "y_pred = classifier.predict(X_test)\n",
    "y_pred = y_pred > 0.5"
   ]
  },
  {
   "cell_type": "code",
   "execution_count": 20,
   "metadata": {},
   "outputs": [],
   "source": [
    "from sklearn.metrics import confusion_matrix\n",
    "cm = confusion_matrix(y_test, y_pred)"
   ]
  },
  {
   "cell_type": "code",
   "execution_count": 21,
   "metadata": {},
   "outputs": [
    {
     "data": {
      "text/plain": [
       "array([[1543,   52],\n",
       "       [ 264,  141]], dtype=int64)"
      ]
     },
     "execution_count": 21,
     "metadata": {},
     "output_type": "execute_result"
    }
   ],
   "source": [
    "cm"
   ]
  },
  {
   "cell_type": "code",
   "execution_count": 22,
   "metadata": {},
   "outputs": [
    {
     "ename": "NameError",
     "evalue": "name 'np' is not defined",
     "output_type": "error",
     "traceback": [
      "\u001b[1;31m---------------------------------------------------------------------------\u001b[0m",
      "\u001b[1;31mNameError\u001b[0m                                 Traceback (most recent call last)",
      "\u001b[1;32m<ipython-input-22-8dcfe1597d19>\u001b[0m in \u001b[0;36m<module>\u001b[1;34m()\u001b[0m\n\u001b[1;32m----> 1\u001b[1;33m \u001b[0mnew_predict\u001b[0m \u001b[1;33m=\u001b[0m \u001b[0mclassifier\u001b[0m\u001b[1;33m.\u001b[0m\u001b[0mpredict\u001b[0m\u001b[1;33m(\u001b[0m\u001b[0mnp\u001b[0m\u001b[1;33m.\u001b[0m\u001b[0marray\u001b[0m\u001b[1;33m(\u001b[0m\u001b[1;36m0\u001b[0m\u001b[1;33m,\u001b[0m\u001b[1;36m0\u001b[0m\u001b[1;33m,\u001b[0m\u001b[1;36m600\u001b[0m\u001b[1;33m,\u001b[0m\u001b[1;36m1\u001b[0m\u001b[1;33m,\u001b[0m\u001b[1;36m40\u001b[0m\u001b[1;33m,\u001b[0m\u001b[1;36m3\u001b[0m\u001b[1;33m,\u001b[0m\u001b[1;36m60000\u001b[0m\u001b[1;33m,\u001b[0m\u001b[1;36m2\u001b[0m\u001b[1;33m,\u001b[0m\u001b[1;36m1\u001b[0m\u001b[1;33m,\u001b[0m\u001b[1;36m1\u001b[0m\u001b[1;33m,\u001b[0m\u001b[1;36m50000\u001b[0m\u001b[1;33m)\u001b[0m\u001b[1;33m)\u001b[0m\u001b[1;33m\u001b[0m\u001b[0m\n\u001b[0m",
      "\u001b[1;31mNameError\u001b[0m: name 'np' is not defined"
     ]
    }
   ],
   "source": [
    "new_predict = classifier.predict(np.array(0,0,600,1,40,3,60000,2,1,1,50000))"
   ]
  },
  {
   "cell_type": "code",
   "execution_count": null,
   "metadata": {},
   "outputs": [],
   "source": []
  }
 ],
 "metadata": {
  "kernelspec": {
   "display_name": "Python 3",
   "language": "python",
   "name": "python3"
  },
  "language_info": {
   "codemirror_mode": {
    "name": "ipython",
    "version": 3
   },
   "file_extension": ".py",
   "mimetype": "text/x-python",
   "name": "python",
   "nbconvert_exporter": "python",
   "pygments_lexer": "ipython3",
   "version": "3.6.5"
  }
 },
 "nbformat": 4,
 "nbformat_minor": 2
}
